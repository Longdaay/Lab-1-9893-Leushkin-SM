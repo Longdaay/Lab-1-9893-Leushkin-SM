{
 "cells": [
  {
   "cell_type": "markdown",
   "id": "e15aa3f3",
   "metadata": {},
   "source": [
    "Практическая работа №1"
   ]
  },
  {
   "cell_type": "markdown",
   "id": "1b7a5d38",
   "metadata": {},
   "source": [
    "Общая информация:"
   ]
  },
  {
   "cell_type": "markdown",
   "id": "1fdcc06b",
   "metadata": {},
   "source": [
    "Предметная область: Игровая индустрия. Источник данных: https://www.kaggle.com/dhruvildave/top-play-store-games. Характер данных: реальные"
   ]
  },
  {
   "cell_type": "markdown",
   "id": "a58d00ce",
   "metadata": {},
   "source": [
    "Представленные атрибуты в датасете:"
   ]
  },
  {
   "cell_type": "markdown",
   "id": "957d8c13",
   "metadata": {},
   "source": [
    "1. rank - номер продукта в таблице - тип данных int"
   ]
  },
  {
   "cell_type": "markdown",
   "id": "4a665447",
   "metadata": {},
   "source": [
    "2. title - название продукта - тип данных string"
   ]
  },
  {
   "cell_type": "markdown",
   "id": "d0741992",
   "metadata": {},
   "source": [
    "3. total rating - место в общем рейтинге - тип данных int"
   ]
  },
  {
   "cell_type": "markdown",
   "id": "64ccb181",
   "metadata": {},
   "source": [
    "4. installs - количество установок - тип данных string"
   ]
  },
  {
   "cell_type": "markdown",
   "id": "3a20d664",
   "metadata": {},
   "source": [
    "5. average rating - средний рейтинг - тип данных int"
   ]
  },
  {
   "cell_type": "markdown",
   "id": "4f9864ae",
   "metadata": {},
   "source": [
    "6. growth (30 days) - рост за 30 дней - тип данных float"
   ]
  },
  {
   "cell_type": "markdown",
   "id": "d9fbe08a",
   "metadata": {},
   "source": [
    "7. growth (60 days) - рост за 60 дней - тип данных float"
   ]
  },
  {
   "cell_type": "markdown",
   "id": "88cbc4ee",
   "metadata": {},
   "source": [
    "8. price - цена продукта - тип данных float"
   ]
  },
  {
   "cell_type": "markdown",
   "id": "09a95695",
   "metadata": {},
   "source": [
    "9. category - категория продукта - тип данных string"
   ]
  },
  {
   "cell_type": "markdown",
   "id": "2b7736e9",
   "metadata": {},
   "source": [
    "10. 5 star rating - количество проголосовавших 5 звезд - тип данных int"
   ]
  },
  {
   "cell_type": "markdown",
   "id": "5ccff195",
   "metadata": {},
   "source": [
    "11. 4 star rating - количество проголосовавших 4 звезд - тип данных int"
   ]
  },
  {
   "cell_type": "markdown",
   "id": "8fffc4e7",
   "metadata": {},
   "source": [
    "12. 3 star rating - количество проголосовавших 3 звезд - тип данных int"
   ]
  },
  {
   "cell_type": "markdown",
   "id": "c77a1864",
   "metadata": {},
   "source": [
    "13. 2 star rating - количество проголосовавших 2 звезд - тип данных int"
   ]
  },
  {
   "cell_type": "markdown",
   "id": "921051d9",
   "metadata": {},
   "source": [
    "14. 1 star rating - количество проголосовавших 1 звезд - тип данных int"
   ]
  },
  {
   "cell_type": "markdown",
   "id": "343cacd9",
   "metadata": {},
   "source": [
    "15. paid - платный продукт - тип данных bool"
   ]
  },
  {
   "cell_type": "markdown",
   "id": "1335cea7",
   "metadata": {},
   "source": [
    "Описание задачи анализа отсутствует"
   ]
  },
  {
   "cell_type": "markdown",
   "id": "68fc6474",
   "metadata": {},
   "source": [
    "Нет возможности определить статистические характеристики атрибутов rank, title, total rating, installs, category, paid потому как это нечисленные данные или уникальные данные для каждой поля"
   ]
  },
  {
   "cell_type": "code",
   "execution_count": 40,
   "id": "cc1f8576",
   "metadata": {},
   "outputs": [
    {
     "data": {
      "text/html": [
       "<div>\n",
       "<style scoped>\n",
       "    .dataframe tbody tr th:only-of-type {\n",
       "        vertical-align: middle;\n",
       "    }\n",
       "\n",
       "    .dataframe tbody tr th {\n",
       "        vertical-align: top;\n",
       "    }\n",
       "\n",
       "    .dataframe thead th {\n",
       "        text-align: right;\n",
       "    }\n",
       "</style>\n",
       "<table border=\"1\" class=\"dataframe\">\n",
       "  <thead>\n",
       "    <tr style=\"text-align: right;\">\n",
       "      <th></th>\n",
       "      <th>rank</th>\n",
       "      <th>title</th>\n",
       "      <th>total ratings</th>\n",
       "      <th>installs</th>\n",
       "      <th>average rating</th>\n",
       "      <th>growth (30 days)</th>\n",
       "      <th>growth (60 days)</th>\n",
       "      <th>price</th>\n",
       "      <th>category</th>\n",
       "      <th>5 star ratings</th>\n",
       "      <th>4 star ratings</th>\n",
       "      <th>3 star ratings</th>\n",
       "      <th>2 star ratings</th>\n",
       "      <th>1 star ratings</th>\n",
       "      <th>paid</th>\n",
       "    </tr>\n",
       "  </thead>\n",
       "  <tbody>\n",
       "    <tr>\n",
       "      <th>0</th>\n",
       "      <td>1</td>\n",
       "      <td>Garena Free Fire- World Series</td>\n",
       "      <td>86273129</td>\n",
       "      <td>500.0 M</td>\n",
       "      <td>4</td>\n",
       "      <td>2.1</td>\n",
       "      <td>6.9</td>\n",
       "      <td>0.0</td>\n",
       "      <td>GAME ACTION</td>\n",
       "      <td>63546766</td>\n",
       "      <td>4949507</td>\n",
       "      <td>3158756</td>\n",
       "      <td>2122183</td>\n",
       "      <td>12495915</td>\n",
       "      <td>False</td>\n",
       "    </tr>\n",
       "    <tr>\n",
       "      <th>1</th>\n",
       "      <td>2</td>\n",
       "      <td>PUBG MOBILE - Traverse</td>\n",
       "      <td>37276732</td>\n",
       "      <td>500.0 M</td>\n",
       "      <td>4</td>\n",
       "      <td>1.8</td>\n",
       "      <td>3.6</td>\n",
       "      <td>0.0</td>\n",
       "      <td>GAME ACTION</td>\n",
       "      <td>28339753</td>\n",
       "      <td>2164478</td>\n",
       "      <td>1253185</td>\n",
       "      <td>809821</td>\n",
       "      <td>4709492</td>\n",
       "      <td>False</td>\n",
       "    </tr>\n",
       "    <tr>\n",
       "      <th>2</th>\n",
       "      <td>3</td>\n",
       "      <td>Mobile Legends: Bang Bang</td>\n",
       "      <td>26663595</td>\n",
       "      <td>100.0 M</td>\n",
       "      <td>4</td>\n",
       "      <td>1.5</td>\n",
       "      <td>3.2</td>\n",
       "      <td>0.0</td>\n",
       "      <td>GAME ACTION</td>\n",
       "      <td>18777988</td>\n",
       "      <td>1812094</td>\n",
       "      <td>1050600</td>\n",
       "      <td>713912</td>\n",
       "      <td>4308998</td>\n",
       "      <td>False</td>\n",
       "    </tr>\n",
       "    <tr>\n",
       "      <th>3</th>\n",
       "      <td>4</td>\n",
       "      <td>Brawl Stars</td>\n",
       "      <td>17971552</td>\n",
       "      <td>100.0 M</td>\n",
       "      <td>4</td>\n",
       "      <td>1.4</td>\n",
       "      <td>4.4</td>\n",
       "      <td>0.0</td>\n",
       "      <td>GAME ACTION</td>\n",
       "      <td>13018610</td>\n",
       "      <td>1552950</td>\n",
       "      <td>774012</td>\n",
       "      <td>406184</td>\n",
       "      <td>2219794</td>\n",
       "      <td>False</td>\n",
       "    </tr>\n",
       "    <tr>\n",
       "      <th>4</th>\n",
       "      <td>5</td>\n",
       "      <td>Sniper 3D: Fun Free Online FPS Shooting Game</td>\n",
       "      <td>14464235</td>\n",
       "      <td>500.0 M</td>\n",
       "      <td>4</td>\n",
       "      <td>0.8</td>\n",
       "      <td>1.5</td>\n",
       "      <td>0.0</td>\n",
       "      <td>GAME ACTION</td>\n",
       "      <td>9827328</td>\n",
       "      <td>2124154</td>\n",
       "      <td>1047741</td>\n",
       "      <td>380670</td>\n",
       "      <td>1084340</td>\n",
       "      <td>False</td>\n",
       "    </tr>\n",
       "  </tbody>\n",
       "</table>\n",
       "</div>"
      ],
      "text/plain": [
       "   rank                                         title  total ratings installs  \\\n",
       "0     1                Garena Free Fire- World Series       86273129  500.0 M   \n",
       "1     2                        PUBG MOBILE - Traverse       37276732  500.0 M   \n",
       "2     3                     Mobile Legends: Bang Bang       26663595  100.0 M   \n",
       "3     4                                   Brawl Stars       17971552  100.0 M   \n",
       "4     5  Sniper 3D: Fun Free Online FPS Shooting Game       14464235  500.0 M   \n",
       "\n",
       "   average rating  growth (30 days)  growth (60 days)  price     category  \\\n",
       "0               4               2.1               6.9    0.0  GAME ACTION   \n",
       "1               4               1.8               3.6    0.0  GAME ACTION   \n",
       "2               4               1.5               3.2    0.0  GAME ACTION   \n",
       "3               4               1.4               4.4    0.0  GAME ACTION   \n",
       "4               4               0.8               1.5    0.0  GAME ACTION   \n",
       "\n",
       "   5 star ratings  4 star ratings  3 star ratings  2 star ratings  \\\n",
       "0        63546766         4949507         3158756         2122183   \n",
       "1        28339753         2164478         1253185          809821   \n",
       "2        18777988         1812094         1050600          713912   \n",
       "3        13018610         1552950          774012          406184   \n",
       "4         9827328         2124154         1047741          380670   \n",
       "\n",
       "   1 star ratings   paid  \n",
       "0        12495915  False  \n",
       "1         4709492  False  \n",
       "2         4308998  False  \n",
       "3         2219794  False  \n",
       "4         1084340  False  "
      ]
     },
     "execution_count": 40,
     "metadata": {},
     "output_type": "execute_result"
    }
   ],
   "source": [
    "import pandas as pd\n",
    "import numpy as np\n",
    "import matplotlib.pyplot as plt\n",
    "\n",
    "%matplotlib inline\n",
    "\n",
    "df = pd.read_csv('android-games.csv')\n",
    "\n",
    "df.head()"
   ]
  },
  {
   "cell_type": "code",
   "execution_count": 28,
   "id": "74f1630c",
   "metadata": {},
   "outputs": [
    {
     "data": {
      "text/plain": [
       "Text(0.5, 1.0, 'average rating')"
      ]
     },
     "execution_count": 28,
     "metadata": {},
     "output_type": "execute_result"
    },
    {
     "data": {
      "image/png": "[encoded data removed]",
      "text/plain": [
       "<Figure size 720x360 with 1 Axes>"
      ]
     },
     "metadata": {
      "needs_background": "light"
     },
     "output_type": "display_data"
    }
   ],
   "source": [
    "# average rating\n",
    "mean_avRating = df['average rating'].mean()\n",
    "sd_avRating = df['average rating'].std(ddof=1)\n",
    "amount_na_avRating = df['average rating'].isna().sum()\n",
    "\n",
    "plt.figure(figsize=(10,5))\n",
    "plt.hist(df['average rating'], bins = 20)\n",
    "plt.grid(True)\n",
    "plt.title('average rating')\n"
   ]
  },
  {
   "cell_type": "code",
   "execution_count": 44,
   "id": "528c0973",
   "metadata": {},
   "outputs": [
    {
     "name": "stdout",
     "output_type": "stream",
     "text": [
      "Среднее значение атрибута - 3.908092485549133\n",
      "\n",
      "Среднеквадратическое отклонение атрибута - 0.29097342183864716\n",
      "\n",
      "Количество пропущенных значений атрибута - 0\n",
      "\n"
     ]
    }
   ],
   "source": [
    "print(f'Среднее значение атрибута - {mean_avRating}\\n')\n",
    "print(f'Среднеквадратическое отклонение атрибута - {sd_avRating}\\n')\n",
    "print(f'Количество пропущенных значений атрибута - {amount_na_avRating}\\n')"
   ]
  },
  {
   "cell_type": "code",
   "execution_count": 29,
   "id": "b5a42daf",
   "metadata": {},
   "outputs": [
    {
     "data": {
      "text/plain": [
       "Text(0.5, 1.0, 'growth (30 days)')"
      ]
     },
     "execution_count": 29,
     "metadata": {},
     "output_type": "execute_result"
    },
    {
     "data": {
      "image/png": "[encoded data removed]",
      "text/plain": [
       "<Figure size 720x360 with 1 Axes>"
      ]
     },
     "metadata": {
      "needs_background": "light"
     },
     "output_type": "display_data"
    }
   ],
   "source": [
    "# growth (30 days)\n",
    "mean_growth30days = df['growth (30 days)'].mean()\n",
    "sd_growth30days = df['growth (30 days)'].std(ddof=1)\n",
    "amount_na_growth30days = df['growth (30 days)'].isna().sum()\n",
    "\n",
    "plt.figure(figsize=(10,5))\n",
    "plt.hist(df['growth (30 days)'], bins = 20)\n",
    "plt.grid(True)\n",
    "plt.title('growth (30 days)')"
   ]
  },
  {
   "cell_type": "code",
   "execution_count": 45,
   "id": "ada11699",
   "metadata": {},
   "outputs": [
    {
     "name": "stdout",
     "output_type": "stream",
     "text": [
      "Среднее значение атрибута - 321.7358959537557\n",
      "\n",
      "Среднеквадратическое отклонение атрибута - 6018.914506814053\n",
      "\n",
      "Количество пропущенных значений атрибута - 0\n",
      "\n"
     ]
    }
   ],
   "source": [
    "print(f'Среднее значение атрибута - {mean_growth30days}\\n')\n",
    "print(f'Среднеквадратическое отклонение атрибута - {sd_growth30days}\\n')\n",
    "print(f'Количество пропущенных значений атрибута - {amount_na_growth30days}\\n')"
   ]
  },
  {
   "cell_type": "code",
   "execution_count": 30,
   "id": "0703461b",
   "metadata": {},
   "outputs": [
    {
     "data": {
      "text/plain": [
       "Text(0.5, 1.0, 'growth (60 days)')"
      ]
     },
     "execution_count": 30,
     "metadata": {},
     "output_type": "execute_result"
    },
    {
     "data": {
      "image/png": "[encoded data removed]",
      "text/plain": [
       "<Figure size 720x360 with 1 Axes>"
      ]
     },
     "metadata": {
      "needs_background": "light"
     },
     "output_type": "display_data"
    }
   ],
   "source": [
    "# growth (60 days)\n",
    "mean_growth60days = df['growth (60 days)'].mean()\n",
    "sd_growth60days = df['growth (60 days)'].std(ddof=1)\n",
    "amount_na_growth60days = df['growth (60 days)'].isna().sum()\n",
    "\n",
    "plt.figure(figsize=(10,5))\n",
    "plt.hist(df['growth (60 days)'], bins = 20)\n",
    "plt.grid(True)\n",
    "plt.title('growth (60 days)')"
   ]
  },
  {
   "cell_type": "code",
   "execution_count": 46,
   "id": "9d511106",
   "metadata": {},
   "outputs": [
    {
     "name": "stdout",
     "output_type": "stream",
     "text": [
      "Среднее значение атрибута - 122.5549710982664\n",
      "\n",
      "Среднеквадратическое отклонение атрибута - 2253.8917030098437\n",
      "\n",
      "Количество пропущенных значений атрибута - 0\n",
      "\n"
     ]
    }
   ],
   "source": [
    "print(f'Среднее значение атрибута - {mean_growth60days}\\n')\n",
    "print(f'Среднеквадратическое отклонение атрибута - {sd_growth60days}\\n')\n",
    "print(f'Количество пропущенных значений атрибута - {amount_na_growth60days}\\n')"
   ]
  },
  {
   "cell_type": "code",
   "execution_count": 32,
   "id": "147a3083",
   "metadata": {},
   "outputs": [
    {
     "data": {
      "text/plain": [
       "Text(0.5, 1.0, 'price')"
      ]
     },
     "execution_count": 32,
     "metadata": {},
     "output_type": "execute_result"
    },
    {
     "data": {
      "image/png": "[encoded data removed]",
      "text/plain": [
       "<Figure size 720x360 with 1 Axes>"
      ]
     },
     "metadata": {
      "needs_background": "light"
     },
     "output_type": "display_data"
    }
   ],
   "source": [
    "# price\n",
    "mean_price = df['price'].mean()\n",
    "sd_price = df['price'].std(ddof=1)\n",
    "amount_na_price = df['price'].isna().sum()\n",
    "\n",
    "plt.figure(figsize=(10,5))\n",
    "plt.hist(df['price'], bins = 30)\n",
    "plt.grid(True)\n",
    "plt.title('price')"
   ]
  },
  {
   "cell_type": "code",
   "execution_count": 47,
   "id": "796c5e99",
   "metadata": {},
   "outputs": [
    {
     "name": "stdout",
     "output_type": "stream",
     "text": [
      "Среднее значение атрибута - 0.010942196531791907\n",
      "\n",
      "Среднеквадратическое отклонение атрибута - 0.21498727445580393\n",
      "\n",
      "Количество пропущенных значений атрибута - 0\n",
      "\n"
     ]
    }
   ],
   "source": [
    "print(f'Среднее значение атрибута - {mean_price}\\n')\n",
    "print(f'Среднеквадратическое отклонение атрибута - {sd_price}\\n')\n",
    "print(f'Количество пропущенных значений атрибута - {amount_na_price}\\n')"
   ]
  },
  {
   "cell_type": "code",
   "execution_count": 33,
   "id": "696851a1",
   "metadata": {},
   "outputs": [
    {
     "data": {
      "text/plain": [
       "Text(0.5, 1.0, '5 star ratings')"
      ]
     },
     "execution_count": 33,
     "metadata": {},
     "output_type": "execute_result"
    },
    {
     "data": {
      "image/png": "[encoded data removed]",
      "text/plain": [
       "<Figure size 720x360 with 1 Axes>"
      ]
     },
     "metadata": {
      "needs_background": "light"
     },
     "output_type": "display_data"
    }
   ],
   "source": [
    "# Five stars\n",
    "mean_FiveStars = df['5 star ratings'].mean()\n",
    "sd_FiveStars = df['5 star ratings'].std(ddof=1)\n",
    "amount_na_FiveStars = df['5 star ratings'].isna().sum()\n",
    "\n",
    "plt.figure(figsize=(10,5))\n",
    "plt.hist(df['5 star ratings'], bins = 30)\n",
    "plt.grid(True)\n",
    "plt.title('5 star ratings')"
   ]
  },
  {
   "cell_type": "code",
   "execution_count": 48,
   "id": "93e54bd8",
   "metadata": {},
   "outputs": [
    {
     "name": "stdout",
     "output_type": "stream",
     "text": [
      "Среднее значение атрибута - 762231.4716763006\n",
      "\n",
      "Среднеквадратическое отклонение атрибута - 2538658.0740964226\n",
      "\n",
      "Количество пропущенных значений атрибута - 0\n",
      "\n"
     ]
    }
   ],
   "source": [
    "print(f'Среднее значение атрибута - {mean_FiveStars}\\n')\n",
    "print(f'Среднеквадратическое отклонение атрибута - {sd_FiveStars}\\n')\n",
    "print(f'Количество пропущенных значений атрибута - {amount_na_FiveStars}\\n')"
   ]
  },
  {
   "cell_type": "code",
   "execution_count": 35,
   "id": "9c5e9e23",
   "metadata": {},
   "outputs": [
    {
     "data": {
      "text/plain": [
       "Text(0.5, 1.0, '4 star ratings')"
      ]
     },
     "execution_count": 35,
     "metadata": {},
     "output_type": "execute_result"
    },
    {
     "data": {
      "image/png": "[encoded data removed]",
      "text/plain": [
       "<Figure size 720x360 with 1 Axes>"
      ]
     },
     "metadata": {
      "needs_background": "light"
     },
     "output_type": "display_data"
    }
   ],
   "source": [
    "# Four stars\n",
    "mean_FourStars = df['4 star ratings'].mean()\n",
    "sd_FourStars = df['4 star ratings'].std(ddof=1)\n",
    "amount_na_FourStars = df['4 star ratings'].isna().sum()\n",
    "\n",
    "plt.figure(figsize=(10,5))\n",
    "plt.hist(df['4 star ratings'], bins = 30)\n",
    "plt.grid(True)\n",
    "plt.title('4 star ratings')"
   ]
  },
  {
   "cell_type": "code",
   "execution_count": 49,
   "id": "978aba77",
   "metadata": {},
   "outputs": [
    {
     "name": "stdout",
     "output_type": "stream",
     "text": [
      "Среднее значение атрибута - 116436.58150289017\n",
      "\n",
      "Среднеквадратическое отклонение атрибута - 302163.0571010144\n",
      "\n",
      "Количество пропущенных значений атрибута - 0\n",
      "\n"
     ]
    }
   ],
   "source": [
    "print(f'Среднее значение атрибута - {mean_FourStars}\\n')\n",
    "print(f'Среднеквадратическое отклонение атрибута - {sd_FourStars}\\n')\n",
    "print(f'Количество пропущенных значений атрибута - {amount_na_FourStars}\\n')"
   ]
  },
  {
   "cell_type": "code",
   "execution_count": 36,
   "id": "ae875e31",
   "metadata": {},
   "outputs": [
    {
     "data": {
      "text/plain": [
       "Text(0.5, 1.0, '3 star ratings')"
      ]
     },
     "execution_count": 36,
     "metadata": {},
     "output_type": "execute_result"
    },
    {
     "data": {
      "image/png": "[encoded data removed]",
      "text/plain": [
       "<Figure size 720x360 with 1 Axes>"
      ]
     },
     "metadata": {
      "needs_background": "light"
     },
     "output_type": "display_data"
    }
   ],
   "source": [
    "# Three stars\n",
    "mean_ThreeStars = df['3 star ratings'].mean()\n",
    "sd_ThreeStars = df['3 star ratings'].std(ddof=1)\n",
    "amount_na_ThreeStars = df['3 star ratings'].isna().sum()\n",
    "\n",
    "plt.figure(figsize=(10,5))\n",
    "plt.hist(df['3 star ratings'], bins = 30)\n",
    "plt.grid(True)\n",
    "plt.title('3 star ratings')"
   ]
  },
  {
   "cell_type": "code",
   "execution_count": 50,
   "id": "e94203c6",
   "metadata": {},
   "outputs": [
    {
     "name": "stdout",
     "output_type": "stream",
     "text": [
      "Среднее значение атрибута - 57063.06936416185\n",
      "\n",
      "Среднеквадратическое отклонение атрибута - 149531.41042889893\n",
      "\n",
      "Количество пропущенных значений атрибута - 0\n",
      "\n"
     ]
    }
   ],
   "source": [
    "print(f'Среднее значение атрибута - {mean_ThreeStars}\\n')\n",
    "print(f'Среднеквадратическое отклонение атрибута - {sd_ThreeStars}\\n')\n",
    "print(f'Количество пропущенных значений атрибута - {amount_na_ThreeStars}\\n')"
   ]
  },
  {
   "cell_type": "code",
   "execution_count": 38,
   "id": "a7c849b8",
   "metadata": {},
   "outputs": [
    {
     "data": {
      "text/plain": [
       "Text(0.5, 1.0, '2 star ratings')"
      ]
     },
     "execution_count": 38,
     "metadata": {},
     "output_type": "execute_result"
    },
    {
     "data": {
      "image/png": "[encoded data removed]",
      "text/plain": [
       "<Figure size 720x360 with 1 Axes>"
      ]
     },
     "metadata": {
      "needs_background": "light"
     },
     "output_type": "display_data"
    }
   ],
   "source": [
    "# Two stars\n",
    "mean_TwoStars = df['2 star ratings'].mean()\n",
    "sd_TwoStars = df['2 star ratings'].std(ddof=1)\n",
    "amount_na_TwoStars = df['2 star ratings'].isna().sum()\n",
    "\n",
    "plt.figure(figsize=(10,5))\n",
    "plt.hist(df['2 star ratings'], bins = 30)\n",
    "plt.grid(True)\n",
    "plt.title('2 star ratings')"
   ]
  },
  {
   "cell_type": "code",
   "execution_count": 51,
   "id": "cb57a8c6",
   "metadata": {},
   "outputs": [
    {
     "name": "stdout",
     "output_type": "stream",
     "text": [
      "Среднее значение атрибута - 27103.356647398843\n",
      "\n",
      "Среднеквадратическое отклонение атрибута - 81545.4178201773\n",
      "\n",
      "Количество пропущенных значений атрибута - 0\n",
      "\n"
     ]
    }
   ],
   "source": [
    "print(f'Среднее значение атрибута - {mean_TwoStars}\\n')\n",
    "print(f'Среднеквадратическое отклонение атрибута - {sd_TwoStars}\\n')\n",
    "print(f'Количество пропущенных значений атрибута - {amount_na_TwoStars}\\n')"
   ]
  },
  {
   "cell_type": "code",
   "execution_count": 39,
   "id": "62b149cf",
   "metadata": {},
   "outputs": [
    {
     "data": {
      "text/plain": [
       "Text(0.5, 1.0, '1 star ratings')"
      ]
     },
     "execution_count": 39,
     "metadata": {},
     "output_type": "execute_result"
    },
    {
     "data": {
      "image/png": "[encoded data removed]",
      "text/plain": [
       "<Figure size 720x360 with 1 Axes>"
      ]
     },
     "metadata": {
      "needs_background": "light"
     },
     "output_type": "display_data"
    }
   ],
   "source": [
    "# One star\n",
    "mean_OneStar = df['1 star ratings'].mean()\n",
    "sd_OneStar = df['1 star ratings'].std(ddof=1)\n",
    "amount_na_OneStar = df['1 star ratings'].isna().sum()\n",
    "\n",
    "plt.figure(figsize=(10,5))\n",
    "plt.hist(df['1 star ratings'], bins = 30)\n",
    "plt.grid(True)\n",
    "plt.title('1 star ratings')"
   ]
  },
  {
   "cell_type": "code",
   "execution_count": 55,
   "id": "04f3b086",
   "metadata": {},
   "outputs": [
    {
     "name": "stdout",
     "output_type": "stream",
     "text": [
      "Среднее значение атрибута - 101494.95260115607\n",
      "\n",
      "Среднеквадратическое отклонение атрибута - 408374.5329634018\n",
      "\n",
      "Количество пропущенных значений атрибута - 0\n",
      "\n"
     ]
    }
   ],
   "source": [
    "print(f'Среднее значение атрибута - {mean_OneStar}\\n')\n",
    "print(f'Среднеквадратическое отклонение атрибута - {sd_OneStar}\\n')\n",
    "print(f'Количество пропущенных значений атрибута - {amount_na_OneStar}\\n')"
   ]
  },
  {
   "cell_type": "code",
   "execution_count": null,
   "id": "8b53c873",
   "metadata": {},
   "outputs": [],
   "source": []
  }
 ],
 "metadata": {
  "kernelspec": {
   "display_name": "Python 3",
   "language": "python",
   "name": "python3"
  },
  "language_info": {
   "codemirror_mode": {
    "name": "ipython",
    "version": 3
   },
   "file_extension": ".py",
   "mimetype": "text/x-python",
   "name": "python",
   "nbconvert_exporter": "python",
   "pygments_lexer": "ipython3",
   "version": "3.8.8"
  }
 },
 "nbformat": 4,
 "nbformat_minor": 5
}
