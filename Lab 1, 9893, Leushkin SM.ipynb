{
 "cells": [
  {
   "cell_type": "code",
   "execution_count": 1,
   "id": "fb952f33",
   "metadata": {},
   "outputs": [],
   "source": [
    "import pandas as pd"
   ]
  },
  {
   "cell_type": "markdown",
   "id": "e15aa3f3",
   "metadata": {},
   "source": [
    "Общая информация:"
   ]
  },
  {
   "cell_type": "markdown",
   "id": "1fdcc06b",
   "metadata": {},
   "source": [
    "Предметная область: Игровая индустрия. Источник данных: https://www.kaggle.com/nikdavis/steam-store-games. Характер данных: реальные"
   ]
  },
  {
   "cell_type": "markdown",
   "id": "a58d00ce",
   "metadata": {},
   "source": []
  },
  {
   "cell_type": "markdown",
   "id": "040385b1",
   "metadata": {},
   "source": []
  },
  {
   "cell_type": "markdown",
   "id": "dbe4c938",
   "metadata": {},
   "source": []
  }
 ],
 "metadata": {
  "kernelspec": {
   "display_name": "Python 3",
   "language": "python",
   "name": "python3"
  },
  "language_info": {
   "codemirror_mode": {
    "name": "ipython",
    "version": 3
   },
   "file_extension": ".py",
   "mimetype": "text/x-python",
   "name": "python",
   "nbconvert_exporter": "python",
   "pygments_lexer": "ipython3",
   "version": "3.8.8"
  }
 },
 "nbformat": 4,
 "nbformat_minor": 5
}
